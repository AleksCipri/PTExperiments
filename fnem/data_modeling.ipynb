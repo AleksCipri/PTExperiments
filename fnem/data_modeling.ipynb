{
 "cells": [
  {
   "cell_type": "code",
   "execution_count": 29,
   "metadata": {},
   "outputs": [],
   "source": [
    "import torch\n",
    "import numpy as np\n",
    "import matplotlib.pyplot as plt\n",
    "import gzip\n",
    "import shutil\n",
    "import os\n",
    "import time\n",
    "\n",
    "%matplotlib inline"
   ]
  },
  {
   "cell_type": "code",
   "execution_count": 32,
   "metadata": {},
   "outputs": [],
   "source": [
    "np.random.seed(0)"
   ]
  },
  {
   "cell_type": "code",
   "execution_count": 33,
   "metadata": {},
   "outputs": [],
   "source": [
    "# data amplitudes\n",
    "D1AMP, D2AMP, D3AMP, D4AMP = 10.0, 1.0, 0.5, 0.1\n",
    "# data update frequencies / pi\n",
    "D1FRQ, D2FRQ, D3FRQ, D4FRQ = 1.0, 0.1, 3.0, 10.0\n",
    "DTYPE = np.float32\n",
    "# noise amplitudes\n",
    "N1AMP, N2AMP, N3AMP, N4AMP = 0.05, 0.04, 0.02, 0.01"
   ]
  },
  {
   "cell_type": "code",
   "execution_count": 34,
   "metadata": {},
   "outputs": [],
   "source": [
    "default_commands = np.array([-0.5, -0.375, -0.25, -0.125, 0.0,\n",
    "                                 0.125, 0.25, 0.375, 0.5], dtype=DTYPE)\n",
    "DEFAULT_COMMANDS = default_commands"
   ]
  },
  {
   "cell_type": "code",
   "execution_count": 35,
   "metadata": {},
   "outputs": [],
   "source": [
    "class MachineStateTextRecorder(object):\n",
    "    '''\n",
    "    record time, machine setting, sensor values, true values\n",
    "    '''\n",
    "\n",
    "    def __init__(self, log_base_name):\n",
    "        self.log_name = log_base_name + '.csv'\n",
    "        self.gzfile = self.log_name + '.gz'\n",
    "        self.cleanup_files()\n",
    "\n",
    "    def cleanup_files(self):\n",
    "        for f in [self.log_name, self.gzfile]:\n",
    "            if os.path.isfile(f):\n",
    "                os.remove(f)\n",
    "\n",
    "    def write_data(self, t, setting, measurements, targets):\n",
    "        '''measurements are measured sensors, targets are true values'''\n",
    "        try:\n",
    "            with open(self.log_name, 'ab+') as f:\n",
    "                meas_string = ','.join([str(i) for i in measurements])\n",
    "                targ_string = ','.join([str(i) for i in targets])\n",
    "                msg = str(t) + ',' + str(setting) + ',' + meas_string + \\\n",
    "                    ',' + targ_string + '\\n'\n",
    "                f.write(bytes(msg, 'utf8'))\n",
    "            return True\n",
    "        except Exception as e:\n",
    "            raise e\n",
    "        return False\n",
    "\n",
    "    def read_data(self):\n",
    "        '''\n",
    "        do not call this on large files\n",
    "        NOTE: we are assuming gzip compression has occurred!\n",
    "        '''\n",
    "        with gzip.open(self.log_name + '.gz', 'rb') as f:\n",
    "            content = f.readlines()\n",
    "            content = [x.decode('utf8').strip() for x in content]\n",
    "        return content\n",
    "\n",
    "    def close(self):\n",
    "        with open(self.log_name, 'rb') as f_in:\n",
    "            with gzip.open(self.gzfile, 'wb') as f_out:\n",
    "                shutil.copyfileobj(f_in, f_out)\n",
    "        if os.path.isfile(self.gzfile) and (os.stat(self.gzfile).st_size > 0):\n",
    "            os.remove(self.log_name)\n",
    "        else:\n",
    "            raise IOError('Compressed file not produced!')"
   ]
  },
  {
   "cell_type": "code",
   "execution_count": 36,
   "metadata": {},
   "outputs": [],
   "source": [
    "class DataGenerator(object):\n",
    "    amp = np.asarray([D1AMP, D2AMP, D3AMP, D4AMP], dtype=DTYPE)\n",
    "    frq = np.pi * np.asarray([D1FRQ, D2FRQ, D3FRQ, D4FRQ], dtype=DTYPE)\n",
    "\n",
    "    def __init__(self, time_step=0.01):\n",
    "        self.t = 0\n",
    "        self.time_step = time_step\n",
    "        assert len(DataGenerator.amp) == len(DataGenerator.frq)\n",
    "\n",
    "    def _gen_point(self):\n",
    "        raw_vs = []\n",
    "        for i in range(len(DataGenerator.amp)):\n",
    "            raw_vs.append(\n",
    "                DataGenerator.amp[i] * np.cos(DataGenerator.frq[i] * self.t)\n",
    "            )\n",
    "        return np.asarray(raw_vs, dtype=DTYPE)\n",
    "\n",
    "    def step(self):\n",
    "        self.t = self.t + self.time_step\n",
    "        data = self._gen_point()\n",
    "        return data"
   ]
  },
  {
   "cell_type": "code",
   "execution_count": 37,
   "metadata": {},
   "outputs": [],
   "source": [
    "class NoiseModel(object):\n",
    "    default_noise_scale = [N1AMP, N2AMP, N3AMP, N4AMP]\n",
    "\n",
    "    def __init__(self, drop_probability=0.0, noise_array=None):\n",
    "        self.noise = noise_array or np.asarray(\n",
    "            NoiseModel.default_noise_scale, dtype=DTYPE\n",
    "        )\n",
    "        assert len(self.noise) == 4\n",
    "\n",
    "    def gen_noise(self, data):\n",
    "        assert len(data) == 4\n",
    "        noise_values = []\n",
    "        for i, d in enumerate(data):\n",
    "            noise_values.append(\n",
    "                self.noise[i] * data[i] * np.random.randn()\n",
    "            )\n",
    "        return np.asarray(noise_values, dtype=DTYPE)"
   ]
  },
  {
   "cell_type": "code",
   "execution_count": 38,
   "metadata": {},
   "outputs": [
    {
     "data": {
      "image/png": "[encoded data removed]",
      "text/plain": [
       "<Figure size 432x288 with 5 Axes>"
      ]
     },
     "metadata": {
      "needs_background": "light"
     },
     "output_type": "display_data"
    }
   ],
   "source": [
    "dgen = DataGenerator()\n",
    "nosgen = NoiseModel()\n",
    "d1 = []\n",
    "d2 = []\n",
    "d3 = []\n",
    "d4 = []\n",
    "n1 = []\n",
    "n2 = []\n",
    "n3 = []\n",
    "n4 = []\n",
    "m1 = []\n",
    "m2 = []\n",
    "m3 = []\n",
    "m4 = []\n",
    "trues = []\n",
    "totals = []\n",
    "ts = []\n",
    "for i in range(200):\n",
    "    data = dgen.step()\n",
    "    noise = nosgen.gen_noise(data)\n",
    "    measured = data + noise\n",
    "    ts.append(dgen.t)\n",
    "    for i, a in enumerate([d1, d2, d3, d4]):\n",
    "        a.append(data[i])\n",
    "    trues.append(sum(data))\n",
    "    for i, n in enumerate([n1, n2, n3, n4]):\n",
    "        n.append(noise[i])\n",
    "    for i, m in enumerate([m1, m2, m3, m4]):\n",
    "        m.append(measured[i])\n",
    "    totals.append(sum(measured))\n",
    "\n",
    "fig = plt.Figure(figsize=(8, 6))\n",
    "gs = plt.GridSpec(1, 5)\n",
    "ax1 = plt.subplot(gs[0])\n",
    "ax1.scatter(ts, d1, c='r')\n",
    "ax1.scatter(ts, d2, c='g')\n",
    "ax1.scatter(ts, d3, c='b')\n",
    "ax1.scatter(ts, d4, c='y')\n",
    "ax2 = plt.subplot(gs[1])\n",
    "ax2.scatter(ts, n1, c='r')\n",
    "ax2.scatter(ts, n2, c='g')\n",
    "ax2.scatter(ts, n3, c='b')\n",
    "ax2.scatter(ts, n4, c='y')\n",
    "ax3 = plt.subplot(gs[2])\n",
    "ax3.scatter(ts, m1, c='r')\n",
    "ax3.scatter(ts, m2, c='g')\n",
    "ax3.scatter(ts, m3, c='b')\n",
    "ax3.scatter(ts, m4, c='y')\n",
    "ax4 = plt.subplot(gs[3])\n",
    "ax4.scatter(ts, totals, c='k')\n",
    "ax5 = plt.subplot(gs[4])\n",
    "ax5.scatter(ts, trues, c='k')\n",
    "plt.show()"
   ]
  },
  {
   "cell_type": "code",
   "execution_count": 39,
   "metadata": {},
   "outputs": [
    {
     "data": {
      "text/plain": [
       "(array([ 1.,  6., 12., 29., 52., 60., 26., 11.,  1.,  1.]),\n",
       " array([-2.06094952, -1.63972046, -1.21849139, -0.79726233, -0.37603327,\n",
       "         0.0451958 ,  0.46642486,  0.88765392,  1.30888299,  1.73011205,\n",
       "         2.15134112]),\n",
       " <a list of 10 Patch objects>)"
      ]
     },
     "execution_count": 39,
     "metadata": {},
     "output_type": "execute_result"
    },
    {
     "data": {
      "image/png": "[encoded data removed]",
      "text/plain": [
       "<Figure size 432x288 with 1 Axes>"
      ]
     },
     "metadata": {
      "needs_background": "light"
     },
     "output_type": "display_data"
    }
   ],
   "source": [
    "t0s = np.asarray(totals[0:-1])\n",
    "t1s = np.asarray(totals[1:])\n",
    "tdiff = t1s - t0s\n",
    "tdiff[:10]\n",
    "plt.hist(tdiff)"
   ]
  },
  {
   "cell_type": "code",
   "execution_count": 40,
   "metadata": {},
   "outputs": [
    {
     "data": {
      "text/plain": [
       "(array([45., 26., 13.,  7.,  8.,  9.,  7., 13., 26., 45.]),\n",
       " array([-0.30409346, -0.24346772, -0.18284199, -0.12221626, -0.06159053,\n",
       "        -0.0009648 ,  0.05966093,  0.12028667,  0.1809124 ,  0.24153813,\n",
       "         0.30216386]),\n",
       " <a list of 10 Patch objects>)"
      ]
     },
     "execution_count": 40,
     "metadata": {},
     "output_type": "execute_result"
    },
    {
     "data": {
      "image/png": "[encoded data removed]",
      "text/plain": [
       "<Figure size 432x288 with 1 Axes>"
      ]
     },
     "metadata": {
      "needs_background": "light"
     },
     "output_type": "display_data"
    }
   ],
   "source": [
    "t0s = np.asarray(trues[0:-1])\n",
    "t1s = np.asarray(trues[1:])\n",
    "tdiff = t1s - t0s\n",
    "tdiff[:10]\n",
    "plt.hist(tdiff)"
   ]
  },
  {
   "cell_type": "code",
   "execution_count": 41,
   "metadata": {},
   "outputs": [],
   "source": [
    "class SimulationMachine(object):\n",
    "    '''\n",
    "    intended operation:\n",
    "    1. update the machine setting\n",
    "    2. step the machine\n",
    "        a. step the data generator (generate data and advance the time)\n",
    "        b. add noise\n",
    "        c. update sensor values\n",
    "        d. if logging, record machine state\n",
    "    3. report the \"heat\" (difference between machine setting and true state)\n",
    "    '''\n",
    "    # default_commands = np.linspace(-0.5, 0.5, num=9, dtype=DTYPE)\n",
    "    default_commands = np.array([-0.5, -0.375, -0.25, -0.125, 0.0,\n",
    "                                 0.125, 0.25, 0.375, 0.5], dtype=DTYPE)\n",
    "\n",
    "    def __init__(\n",
    "        self, setting, data_generator, noise_model, logger=None, commands=None\n",
    "    ):\n",
    "        self._data_generator = data_generator\n",
    "        self._noise_model = noise_model\n",
    "        self._setting = setting\n",
    "        self._heat = 0.0\n",
    "        self._true_state = 0.0\n",
    "        self._commands = commands or SimulationMachine.default_commands\n",
    "        self._sensors = np.zeros(4, dtype=DTYPE)\n",
    "        self._logger = logger\n",
    "\n",
    "    def update_machine(self, command):\n",
    "        '''command is the index of the step change'''\n",
    "        self._setting = self._setting + self._commands[command]\n",
    "\n",
    "    def step(self):\n",
    "        data = self._data_generator.step()\n",
    "        self._true_state = np.sum(data)\n",
    "        noise = self._noise_model.gen_noise(data)\n",
    "        measured = data + noise\n",
    "        self._sensors = measured\n",
    "        if self._logger is not None:\n",
    "            self._logger.write_data(self._data_generator.t, self._setting,\n",
    "                                    measured, data)\n",
    "\n",
    "    def get_heat(self):\n",
    "        return (self._true_state - self._setting) ** 2\n",
    "\n",
    "    def get_time(self):\n",
    "        return self._data_generator.t\n",
    "\n",
    "    def get_setting(self):\n",
    "        return self._setting\n",
    "\n",
    "    def get_commands(self):\n",
    "        return list(self._commands)\n",
    "\n",
    "    def get_sensor_values(self):\n",
    "        return list(self._sensors)"
   ]
  },
  {
   "cell_type": "code",
   "execution_count": 42,
   "metadata": {},
   "outputs": [],
   "source": [
    "class SimpleRuleBased(object):\n",
    "    '''\n",
    "    intended operation:\n",
    "    1. observe the machine state\n",
    "    2. compute a new setting value and apply it\n",
    "    '''\n",
    "\n",
    "    def __init__(\n",
    "        self, time, setting, amplitude, period, commands_array\n",
    "    ):\n",
    "        '''\n",
    "        amplitude = max value, period = max -> min -> max t\n",
    "        '''\n",
    "        self._time = time\n",
    "        self._setting = setting\n",
    "        self._amplitude = amplitude\n",
    "        self._period = period\n",
    "        self._state = None\n",
    "        self._commands = np.asarray(commands_array, dtype=DTYPE)\n",
    "\n",
    "    def set_state(self, sensor_array):\n",
    "        '''\n",
    "        sensor_array should be a 5 element array - one for each sensor, t.\n",
    "        this policy ignores state and only uses t\n",
    "\n",
    "        TODO - this should take a minibatch, not a single point\n",
    "        '''\n",
    "        self._state = sensor_array[0:4]\n",
    "        self._time = sensor_array[-1]\n",
    "\n",
    "    def compute_action(self):\n",
    "        '''\n",
    "        pure time-based, want to go from ampl to -ampl as t goes from\n",
    "        0->1, then from -ampl to ampl as t goes from 1->2\n",
    "        '''\n",
    "        t = self._time % 2\n",
    "        if t < (self._period / 2.0):\n",
    "            slope = -2.0 * self._amplitude\n",
    "            intercept = self._amplitude\n",
    "        if t >= (self._period / 2.0):\n",
    "            slope = 2.0 * self._amplitude\n",
    "            intercept = -3.0 * self._amplitude\n",
    "        target = slope * t + intercept\n",
    "        delta = target - self._setting\n",
    "        diffs = np.abs(self._commands - delta)\n",
    "        command = np.argmin(diffs)\n",
    "        return command\n",
    "\n",
    "    def update_setting(self, command):\n",
    "        '''command is the index of the step change'''\n",
    "        self._setting = self._setting + self._commands[command]"
   ]
  },
  {
   "cell_type": "code",
   "execution_count": 43,
   "metadata": {},
   "outputs": [
    {
     "data": {
      "image/png": "[encoded data removed]",
      "text/plain": [
       "<Figure size 432x288 with 4 Axes>"
      ]
     },
     "metadata": {
      "needs_background": "light"
     },
     "output_type": "display_data"
    }
   ],
   "source": [
    "dgen = DataGenerator()\n",
    "nosgen = NoiseModel()\n",
    "machine = SimulationMachine(setting=10.0, data_generator=dgen,\n",
    "                           noise_model=nosgen)\n",
    "policy = SimpleRuleBased(time=0.0, setting=10.0, amplitude=10.0,\n",
    "                        period=2.0, commands_array=machine.get_commands())\n",
    "\n",
    "m1 = []\n",
    "m2 = []\n",
    "m3 = []\n",
    "m4 = []\n",
    "totals = []\n",
    "heat = []\n",
    "settings = []\n",
    "ts = []\n",
    "for i in range(200):\n",
    "    machine.step()\n",
    "    t = machine.get_time()\n",
    "    sensor_vals = machine.get_sensor_values()\n",
    "    ts.append(t)\n",
    "    for i, m in enumerate([m1, m2, m3, m4]):\n",
    "        m.append(sensor_vals[i])\n",
    "    totals.append(sum(sensor_vals))\n",
    "    settings.append(machine.get_setting())\n",
    "    heat.append(machine.get_heat())\n",
    "    state = sensor_vals + [t]\n",
    "    policy.set_state(state)\n",
    "    command = policy.compute_action()\n",
    "    machine.update_machine(command)\n",
    "    policy.update_setting(command)\n",
    "\n",
    "fig = plt.Figure(figsize=(8, 6))\n",
    "gs = plt.GridSpec(1, 4)\n",
    "ax1 = plt.subplot(gs[0])\n",
    "ax1.scatter(ts, m1, c='r')\n",
    "ax1.scatter(ts, m2, c='g')\n",
    "ax1.scatter(ts, m3, c='b')\n",
    "ax1.scatter(ts, m4, c='y')\n",
    "ax2 = plt.subplot(gs[1])\n",
    "ax2.scatter(ts, totals, c='k')\n",
    "ax3 = plt.subplot(gs[2])\n",
    "ax3.scatter(ts, heat, c='k')\n",
    "ax4 = plt.subplot(gs[3])\n",
    "ax4.scatter(ts, settings, c='k')\n",
    "\n",
    "plt.show()"
   ]
  },
  {
   "cell_type": "code",
   "execution_count": 45,
   "metadata": {},
   "outputs": [
    {
     "data": {
      "text/plain": [
       "'TRAIN'"
      ]
     },
     "execution_count": 45,
     "metadata": {},
     "output_type": "execute_result"
    }
   ],
   "source": [
    "'train'.upper()"
   ]
  },
  {
   "cell_type": "code",
   "execution_count": null,
   "metadata": {},
   "outputs": [],
   "source": []
  }
 ],
 "metadata": {
  "kernelspec": {
   "display_name": "Python 3",
   "language": "python",
   "name": "python3"
  },
  "language_info": {
   "codemirror_mode": {
    "name": "ipython",
    "version": 3
   },
   "file_extension": ".py",
   "mimetype": "text/x-python",
   "name": "python",
   "nbconvert_exporter": "python",
   "pygments_lexer": "ipython3",
   "version": "3.7.0"
  }
 },
 "nbformat": 4,
 "nbformat_minor": 2
}
