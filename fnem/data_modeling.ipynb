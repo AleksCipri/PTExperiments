{
 "cells": [
  {
   "cell_type": "code",
   "execution_count": 1,
   "metadata": {},
   "outputs": [],
   "source": [
    "import torch\n",
    "import numpy as np\n",
    "import matplotlib.pyplot as plt"
   ]
  },
  {
   "cell_type": "code",
   "execution_count": 40,
   "metadata": {},
   "outputs": [],
   "source": [
    "import gzip\n",
    "import shutil\n",
    "import os"
   ]
  },
  {
   "cell_type": "code",
   "execution_count": 11,
   "metadata": {},
   "outputs": [],
   "source": [
    "%matplotlib inline"
   ]
  },
  {
   "cell_type": "code",
   "execution_count": 35,
   "metadata": {},
   "outputs": [],
   "source": [
    "class DataGenerator(object):\n",
    "    amp = [10.0, 1.0, 0.5, 0.1]\n",
    "    frq = [1.0 * np.pi, 0.1 * np.pi, 3.0 * np.pi, 10.0 * np.pi]\n",
    "    DTYPE = np.float32\n",
    "    \n",
    "    def __init__(self, time_step=0.01):\n",
    "        self.t = 0\n",
    "        self.time_step = time_step\n",
    "        assert len(DataGenerator.amp) == len(DataGenerator.frq)\n",
    "        \n",
    "    def _gen_point(self):\n",
    "        raw_vs = []\n",
    "        for i in range(len(DataGenerator.amp)):\n",
    "            raw_vs.append(\n",
    "                DataGenerator.amp[i] * np.cos(DataGenerator.frq[i] * self.t)\n",
    "            )\n",
    "        return np.asarray(raw_vs, dtype=DataGenerator.DTYPE)\n",
    "    \n",
    "    def step(self):\n",
    "        data = self._gen_point()\n",
    "        self.t = self.t + self.time_step\n",
    "        return data"
   ]
  },
  {
   "cell_type": "code",
   "execution_count": 36,
   "metadata": {},
   "outputs": [],
   "source": [
    "class NoiseModel(object):\n",
    "    default_noise_scale = [0.05, 0.04, 0.02, 0.01]\n",
    "    DTYPE = np.float32\n",
    "    \n",
    "    def __init__(self, drop_probability=0.0, noise_array=None):\n",
    "        self.noise = noise_array or NoiseModel.default_noise_scale\n",
    "        assert len(self.noise) == 4\n",
    "    \n",
    "    def gen_noise(self, data):\n",
    "        assert len(data) == 4\n",
    "        noise_values = []\n",
    "        for i, d in enumerate(data):\n",
    "            noise_values.append(\n",
    "                self.noise[i] * data[i] * np.random.randn()\n",
    "            )\n",
    "        return np.asarray(noise_values, dtype=NoiseModel.DTYPE)"
   ]
  },
  {
   "cell_type": "code",
   "execution_count": 37,
   "metadata": {},
   "outputs": [
    {
     "data": {
      "image/png": "[encoded data removed]",
      "text/plain": [
       "<Figure size 432x288 with 3 Axes>"
      ]
     },
     "metadata": {
      "needs_background": "light"
     },
     "output_type": "display_data"
    }
   ],
   "source": [
    "dgen = DataGenerator()\n",
    "nosgen = NoiseModel()\n",
    "d1 = []\n",
    "d2 = []\n",
    "d3 = []\n",
    "d4 = []\n",
    "n1 = []\n",
    "n2 = []\n",
    "n3 = []\n",
    "n4 = []\n",
    "m1 = []\n",
    "m2 = []\n",
    "m3 = []\n",
    "m4 = []\n",
    "ts = []\n",
    "for i in range(500):\n",
    "    data = dgen.step()\n",
    "    noise = nosgen.gen_noise(data)\n",
    "    measured = data + noise\n",
    "    ts.append(dgen.t)\n",
    "    for i, a in enumerate([d1, d2, d3, d4]):\n",
    "        a.append(data[i])\n",
    "    for i, n in enumerate([n1, n2, n3, n4]):\n",
    "        n.append(noise[i])\n",
    "    for i, m in enumerate([m1, m2, m3, m4]):\n",
    "        m.append(measured[i])\n",
    "\n",
    "fig = plt.Figure()\n",
    "gs = plt.GridSpec(1, 3)\n",
    "ax1 = plt.subplot(gs[0])\n",
    "ax1.scatter(ts, d1, c='r')\n",
    "ax1.scatter(ts, d2, c='g')\n",
    "ax1.scatter(ts, d3, c='b')\n",
    "ax1.scatter(ts, d4, c='y')\n",
    "ax2 = plt.subplot(gs[1])\n",
    "ax2.scatter(ts, n1, c='r')\n",
    "ax2.scatter(ts, n2, c='g')\n",
    "ax2.scatter(ts, n3, c='b')\n",
    "ax2.scatter(ts, n4, c='y')\n",
    "ax3 = plt.subplot(gs[2])\n",
    "ax3.scatter(ts, m1, c='r')\n",
    "ax3.scatter(ts, m2, c='g')\n",
    "ax3.scatter(ts, m3, c='b')\n",
    "ax3.scatter(ts, m4, c='y')\n",
    "plt.show()"
   ]
  },
  {
   "cell_type": "code",
   "execution_count": 44,
   "metadata": {},
   "outputs": [],
   "source": [
    "class MachineStateTextRecorder(object):\n",
    "    \n",
    "    def __init__(self, log_base_name):\n",
    "        self.log_name = log_base_name + '.csv'\n",
    "        self.gzfile = self.log_name + '.gz'\n",
    "        self.cleanup_files()\n",
    "        \n",
    "    def cleanup_files(self):\n",
    "        for f in [self.log_name, self.gzfile]:\n",
    "            if os.path.isfile(f):\n",
    "                os.remove(f)\n",
    "        \n",
    "    def write_data(self, t, measurements, targets):\n",
    "        '''measurements are measured sensors, targets are true values'''\n",
    "        try:\n",
    "            with open(self.log_name, 'ab+') as f:\n",
    "                meas_string = ','.join([str(i) for i in measurements])\n",
    "                targ_string = ','.join([str(i) for i in targets])\n",
    "                msg = str(t) + ',' + meas_string + ',' + targ_string + '\\n'\n",
    "                f.write(bytes(msg, 'utf8'))\n",
    "            return True\n",
    "        except Exception as e:\n",
    "            raise e\n",
    "        return False\n",
    "\n",
    "    def read_data(self):\n",
    "        '''\n",
    "        do not call this on large files\n",
    "        NOTE: we are assuming gzip compression has occurred!\n",
    "        '''\n",
    "        with gzip.open(self.log_name + '.gz', 'rb') as f:\n",
    "            content = f.readlines()\n",
    "            content = [x.strip() for x in content]\n",
    "        return content\n",
    "    \n",
    "    def close(self):\n",
    "        with open(self.log_name, 'rb') as f_in:\n",
    "            with gzip.open(self.gzfile, 'wb') as f_out:\n",
    "                shutil.copyfileobj(f_in, f_out)\n",
    "        if os.path.isfile(self.gzfile) and (os.stat(self.gzfile).st_size > 0):\n",
    "            os.remove(self.db_name)\n",
    "        else:\n",
    "            raise IOError('Compressed file not produced!')"
   ]
  },
  {
   "cell_type": "code",
   "execution_count": 39,
   "metadata": {},
   "outputs": [],
   "source": [
    "class SimulationMachine(object):\n",
    "    \n",
    "    def __init__(self, data_generator, noise_model, logger=None):\n",
    "        self.data_generator = data_generator\n",
    "        self.noise_model = noise_model\n",
    "        self.setting = 0.0\n",
    "        self.heat = 0.0\n",
    "        if logger is None:\n",
    "            self.live_mode = True\n",
    "        else:\n",
    "            self.live_mode = False\n",
    "            self.logger = logger\n",
    "        \n",
    "    def step(self):\n",
    "        pass\n",
    "    \n",
    "    def get_heat(self):\n",
    "        pass"
   ]
  },
  {
   "cell_type": "code",
   "execution_count": null,
   "metadata": {},
   "outputs": [],
   "source": []
  }
 ],
 "metadata": {
  "kernelspec": {
   "display_name": "Python 3",
   "language": "python",
   "name": "python3"
  },
  "language_info": {
   "codemirror_mode": {
    "name": "ipython",
    "version": 3
   },
   "file_extension": ".py",
   "mimetype": "text/x-python",
   "name": "python",
   "nbconvert_exporter": "python",
   "pygments_lexer": "ipython3",
   "version": "3.7.0"
  }
 },
 "nbformat": 4,
 "nbformat_minor": 2
}
