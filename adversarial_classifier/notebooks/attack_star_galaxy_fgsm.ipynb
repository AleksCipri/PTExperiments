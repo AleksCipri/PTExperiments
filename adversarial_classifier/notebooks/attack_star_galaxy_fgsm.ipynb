{
 "cells": [
  {
   "cell_type": "markdown",
   "metadata": {},
   "source": [
    "# Run this notebook second\n",
    "\n",
    "This notebook will run the Fast Gradient Sign Method attack on a star-galaxy dataset, using a classifier trained in a different notebook. You will need to update some of the options (e.g., `data_dir`, possibly `ckpt_path` if you renamed it, etc.) below for your local situation. If you need a copy of the data, see the instructions at the root-level README.\n",
    "\n",
    "The notebook will produce a set of HDF5 files containing images with the FGSM attack applied with names like `fgsm_0_XYZ.hdf5` for epsilon (attack \"magnitude\") 0.XYZ (float)."
   ]
  },
  {
   "cell_type": "code",
   "execution_count": 1,
   "metadata": {},
   "outputs": [],
   "source": [
    "import sys\n",
    "import logging\n",
    "import time"
   ]
  },
  {
   "cell_type": "code",
   "execution_count": 2,
   "metadata": {},
   "outputs": [],
   "source": [
    "sys.path.append(\"..\")"
   ]
  },
  {
   "cell_type": "code",
   "execution_count": 3,
   "metadata": {},
   "outputs": [],
   "source": [
    "from ptlib.dataloaders import StarGalaxyDataManager as DataManager\n",
    "from ptlib.models import SimpleSGConvNet as Model\n",
    "from ptlib.attackers import FGSMAttacker as Attacker\n",
    "from ptlib.utils import get_logging_level\n",
    "from ptlib.utils import log_function_args"
   ]
  },
  {
   "cell_type": "code",
   "execution_count": 6,
   "metadata": {},
   "outputs": [
    {
     "name": "stdout",
     "output_type": "stream",
     "text": [
      "0d5702e19db6\n"
     ]
    }
   ],
   "source": [
    "git_hash=!git describe --abbrev=12 --dirty --always\n",
    "git_hash = git_hash[0]\n",
    "print(git_hash)"
   ]
  },
  {
   "cell_type": "code",
   "execution_count": 7,
   "metadata": {},
   "outputs": [],
   "source": [
    "ckpt_path=\"sg_ckpt.tar\"\n",
    "data_dir=\"/Users/perdue/Dropbox/Data/Workspace\"\n",
    "epsilons = [0.0, 0.01, 0.05]\n",
    "log_freq=20\n",
    "log_level=\"INFO\"\n",
    "short_test=False"
   ]
  },
  {
   "cell_type": "markdown",
   "metadata": {},
   "source": [
    "Lots of useful information will go to the log file:"
   ]
  },
  {
   "cell_type": "code",
   "execution_count": 9,
   "metadata": {},
   "outputs": [
    {
     "name": "stdout",
     "output_type": "stream",
     "text": [
      "log_attack_star_galaxy1595417491.txt\n"
     ]
    }
   ],
   "source": [
    "logfilename = 'log_attack_star_galaxy' + str(int(time.time())) + '.txt'\n",
    "print(logfilename)"
   ]
  },
  {
   "cell_type": "code",
   "execution_count": 10,
   "metadata": {},
   "outputs": [],
   "source": [
    "logging.basicConfig(\n",
    "    filename=logfilename, level=get_logging_level(log_level),\n",
    "    format='%(asctime)s - %(name)s - %(levelname)s - %(message)s'\n",
    ")\n",
    "LOGGER = logging.getLogger(__name__)\n",
    "LOGGER.info(\"Starting...\")\n",
    "log_function_args(vars())"
   ]
  },
  {
   "cell_type": "markdown",
   "metadata": {},
   "source": [
    "Set up a data manager and a model:"
   ]
  },
  {
   "cell_type": "code",
   "execution_count": 11,
   "metadata": {},
   "outputs": [],
   "source": [
    "data_manager = DataManager(data_dir=data_dir)\n",
    "data_manager.make_means()\n",
    "model = Model()"
   ]
  },
  {
   "cell_type": "markdown",
   "metadata": {},
   "source": [
    "Set up the attacker:"
   ]
  },
  {
   "cell_type": "code",
   "execution_count": 12,
   "metadata": {},
   "outputs": [],
   "source": [
    "attacker = Attacker(data_manager, model, ckpt_path, log_freq)\n",
    "attacker.restore_model_and_optimizer()"
   ]
  },
  {
   "cell_type": "markdown",
   "metadata": {},
   "source": [
    "Run the attack for each epsilon (FGSM scale factor):"
   ]
  },
  {
   "cell_type": "code",
   "execution_count": 13,
   "metadata": {},
   "outputs": [],
   "source": [
    "for epsilon in epsilons:\n",
    "    attacker.attack_for_single_epsilon(\n",
    "        epsilon, short_test=short_test)"
   ]
  },
  {
   "cell_type": "code",
   "execution_count": null,
   "metadata": {},
   "outputs": [],
   "source": []
  }
 ],
 "metadata": {
  "kernelspec": {
   "display_name": "Python 3",
   "language": "python",
   "name": "python3"
  },
  "language_info": {
   "codemirror_mode": {
    "name": "ipython",
    "version": 3
   },
   "file_extension": ".py",
   "mimetype": "text/x-python",
   "name": "python",
   "nbconvert_exporter": "python",
   "pygments_lexer": "ipython3",
   "version": "3.7.7"
  }
 },
 "nbformat": 4,
 "nbformat_minor": 4
}
