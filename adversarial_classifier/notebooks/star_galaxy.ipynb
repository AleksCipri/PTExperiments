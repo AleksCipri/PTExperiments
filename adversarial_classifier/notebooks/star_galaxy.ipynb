{
 "cells": [
  {
   "cell_type": "code",
   "execution_count": 1,
   "metadata": {},
   "outputs": [],
   "source": [
    "import sys\n",
    "import logging\n",
    "import time"
   ]
  },
  {
   "cell_type": "code",
   "execution_count": 2,
   "metadata": {},
   "outputs": [],
   "source": [
    "sys.path.append(\"..\")"
   ]
  },
  {
   "cell_type": "code",
   "execution_count": 3,
   "metadata": {},
   "outputs": [],
   "source": [
    "from ptlib.dataloaders import StarGalaxyDataManager as DataManager\n",
    "from ptlib.models import SimpleSGConvNet as Model\n",
    "from ptlib.trainers import VanillaTrainer as Trainer\n",
    "from ptlib.utils import get_logging_level\n",
    "from ptlib.utils import log_function_args"
   ]
  },
  {
   "cell_type": "code",
   "execution_count": 4,
   "metadata": {},
   "outputs": [
    {
     "name": "stdout",
     "output_type": "stream",
     "text": [
      "e6d3d22901c0\n"
     ]
    }
   ],
   "source": [
    "git_hash=!git describe --abbrev=12 --dirty --always\n",
    "git_hash = git_hash[0]\n",
    "print(git_hash)"
   ]
  },
  {
   "cell_type": "code",
   "execution_count": 5,
   "metadata": {},
   "outputs": [],
   "source": [
    "batch_size = 32\n",
    "ckpt_path=\"sg_ckpt.tar\"\n",
    "data_dir=\"/Users/perdue/Dropbox/Data/Workspace\"\n",
    "log_freq=20\n",
    "log_level=\"INFO\"\n",
    "num_epochs=1\n",
    "short_test=False\n",
    "# tqdm, but only over the epochs, not within epoch (yet)\n",
    "show_progress=False\n",
    "test=True\n",
    "train=True\n",
    "tnsrbrd_out_dir=\"/tmp/stargalaxy/tnsrbrd\""
   ]
  },
  {
   "cell_type": "markdown",
   "metadata": {},
   "source": [
    "Lots of information is printed to the log..."
   ]
  },
  {
   "cell_type": "code",
   "execution_count": 6,
   "metadata": {},
   "outputs": [
    {
     "name": "stdout",
     "output_type": "stream",
     "text": [
      "log_star_galaxy1595345607.txt\n"
     ]
    }
   ],
   "source": [
    "logfilename = 'log_star_galaxy' + str(int(time.time())) + '.txt'\n",
    "print(logfilename)"
   ]
  },
  {
   "cell_type": "code",
   "execution_count": 7,
   "metadata": {},
   "outputs": [],
   "source": [
    "logging.basicConfig(\n",
    "    filename=logfilename, level=get_logging_level(log_level),\n",
    "    format='%(asctime)s - %(name)s - %(levelname)s - %(message)s'\n",
    ")\n",
    "LOGGER = logging.getLogger(__name__)\n",
    "LOGGER.info(\"Starting...\")\n",
    "log_function_args(vars())"
   ]
  },
  {
   "cell_type": "markdown",
   "metadata": {},
   "source": [
    "Set up a data manager and a model:"
   ]
  },
  {
   "cell_type": "code",
   "execution_count": 8,
   "metadata": {},
   "outputs": [],
   "source": [
    "data_manager = DataManager(data_dir=data_dir)\n",
    "data_manager.make_means()\n",
    "model = Model()"
   ]
  },
  {
   "cell_type": "markdown",
   "metadata": {},
   "source": [
    "Create a trainer with data handler and model:"
   ]
  },
  {
   "cell_type": "code",
   "execution_count": 9,
   "metadata": {},
   "outputs": [],
   "source": [
    "trainer = Trainer(\n",
    "    data_manager, model, ckpt_path, tnsrbrd_out_dir,\n",
    "    log_freq=log_freq, show_progress=show_progress)\n",
    "trainer.restore_model_and_optimizer()"
   ]
  },
  {
   "cell_type": "markdown",
   "metadata": {},
   "source": [
    "Run training:"
   ]
  },
  {
   "cell_type": "code",
   "execution_count": 10,
   "metadata": {},
   "outputs": [],
   "source": [
    "if train:\n",
    "    trainer.train(num_epochs, batch_size, short_test)"
   ]
  },
  {
   "cell_type": "code",
   "execution_count": 11,
   "metadata": {},
   "outputs": [],
   "source": [
    "if test:\n",
    "    test_loss, correct, total = trainer.test(batch_size, short_test)"
   ]
  },
  {
   "cell_type": "code",
   "execution_count": 12,
   "metadata": {},
   "outputs": [
    {
     "name": "stdout",
     "output_type": "stream",
     "text": [
      "8.710777568630874 0.9692\n"
     ]
    }
   ],
   "source": [
    "print(test_loss, correct / total)"
   ]
  },
  {
   "cell_type": "code",
   "execution_count": null,
   "metadata": {},
   "outputs": [],
   "source": []
  }
 ],
 "metadata": {
  "kernelspec": {
   "display_name": "Python 3",
   "language": "python",
   "name": "python3"
  },
  "language_info": {
   "codemirror_mode": {
    "name": "ipython",
    "version": 3
   },
   "file_extension": ".py",
   "mimetype": "text/x-python",
   "name": "python",
   "nbconvert_exporter": "python",
   "pygments_lexer": "ipython3",
   "version": "3.7.7"
  }
 },
 "nbformat": 4,
 "nbformat_minor": 4
}
